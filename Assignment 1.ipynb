{
 "cells": [
  {
   "cell_type": "markdown",
   "id": "328fe858-5338-41f3-8fd8-ca08b1340060",
   "metadata": {},
   "source": [
    "how to create a variable named carname and assign a value Volvo to it"
   ]
  },
  {
   "cell_type": "code",
   "execution_count": 8,
   "id": "5d65a64b-7378-4931-b709-a1edf28ff6b9",
   "metadata": {},
   "outputs": [
    {
     "name": "stdout",
     "output_type": "stream",
     "text": [
      "Volvo\n"
     ]
    }
   ],
   "source": [
    "carname = \"Volvo\"\n",
    "print (carname)"
   ]
  },
  {
   "cell_type": "markdown",
   "id": "b77fe09f-0e36-431f-b96a-0a6589e50809",
   "metadata": {},
   "source": [
    "how to create afunction that take two argument"
   ]
  },
  {
   "cell_type": "code",
   "execution_count": 15,
   "id": "f7239471-e4f8-4c60-bd70-d9c3ee9fac6b",
   "metadata": {},
   "outputs": [
    {
     "name": "stdout",
     "output_type": "stream",
     "text": [
      "ola\n",
      "27\n"
     ]
    }
   ],
   "source": [
    "def person (name, age):\n",
    "    print (name)\n",
    "    print (age)\n",
    "\n",
    "person (\"ola\", 27)"
   ]
  },
  {
   "cell_type": "markdown",
   "id": "3a0a79a6-8663-4d43-afbd-d066dfd7b294",
   "metadata": {},
   "source": [
    "how to reverse each word of a string"
   ]
  },
  {
   "cell_type": "code",
   "execution_count": 17,
   "id": "2019cb04-070a-4eb7-9c9c-e97cfd4600bd",
   "metadata": {},
   "outputs": [
    {
     "ename": "SyntaxError",
     "evalue": "invalid syntax (3734235932.py, line 1)",
     "output_type": "error",
     "traceback": [
      "\u001b[1;36m  Cell \u001b[1;32mIn[17], line 1\u001b[1;36m\u001b[0m\n\u001b[1;33m    string = My Name is Jessica\u001b[0m\n\u001b[1;37m                ^\u001b[0m\n\u001b[1;31mSyntaxError\u001b[0m\u001b[1;31m:\u001b[0m invalid syntax\n"
     ]
    }
   ],
   "source": [
    "string = My Name is Jessica\n",
    "string resultString = string.Join(\" \", inputString\n",
    ".Split(\" \")\n",
    "    .Select(x = new string(x.Reverse().ToArray())):\n",
    "Console.WriteLine(resultString):"
   ]
  },
  {
   "cell_type": "code",
   "execution_count": null,
   "id": "cfb0d672-dbfb-470a-a4bf-b09ff8ba0a6d",
   "metadata": {},
   "outputs": [],
   "source": []
  }
 ],
 "metadata": {
  "kernelspec": {
   "display_name": "Python 3 (ipykernel)",
   "language": "python",
   "name": "python3"
  },
  "language_info": {
   "codemirror_mode": {
    "name": "ipython",
    "version": 3
   },
   "file_extension": ".py",
   "mimetype": "text/x-python",
   "name": "python",
   "nbconvert_exporter": "python",
   "pygments_lexer": "ipython3",
   "version": "3.11.7"
  }
 },
 "nbformat": 4,
 "nbformat_minor": 5
}
