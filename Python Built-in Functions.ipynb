{
 "cells": [
  {
   "cell_type": "markdown",
   "id": "a7ab54e6-3c9c-4c0b-a7cf-b858a843b7b3",
   "metadata": {},
   "source": [
    "python built-in functions"
   ]
  },
  {
   "cell_type": "code",
   "execution_count": 19,
   "id": "1bdad522-ee7d-417a-8d8f-e16ceb803f77",
   "metadata": {},
   "outputs": [
    {
     "name": "stdout",
     "output_type": "stream",
     "text": [
      "70.75\n"
     ]
    }
   ],
   "source": [
    "x = abs(-70.75)\n",
    "print(x)"
   ]
  },
  {
   "cell_type": "code",
   "execution_count": 20,
   "id": "022698b3-8860-46df-82ad-36468bccdfc6",
   "metadata": {},
   "outputs": [
    {
     "name": "stdout",
     "output_type": "stream",
     "text": [
      "True\n"
     ]
    }
   ],
   "source": [
    "mylist = (True, True, True)\n",
    "x = all(mylist)\n",
    "print(x)"
   ]
  },
  {
   "cell_type": "code",
   "execution_count": 21,
   "id": "c9bcae45-a947-4797-85a2-c12de60e57d7",
   "metadata": {},
   "outputs": [
    {
     "name": "stdout",
     "output_type": "stream",
     "text": [
      "True\n"
     ]
    }
   ],
   "source": [
    "mylist = (False, False, True)\n",
    "x = any(mylist)\n",
    "print(x)"
   ]
  },
  {
   "cell_type": "code",
   "execution_count": 23,
   "id": "c206398b-54ba-4023-936c-9cb84edf5410",
   "metadata": {},
   "outputs": [
    {
     "name": "stdout",
     "output_type": "stream",
     "text": [
      "'His Name is Em\\xe5nuel'\n"
     ]
    }
   ],
   "source": [
    "x = ascii(\"His Name is Emånuel\")\n",
    "print(x) "
   ]
  },
  {
   "cell_type": "code",
   "execution_count": 24,
   "id": "105fd0e5-652a-4df5-b46d-f6134ccb876d",
   "metadata": {},
   "outputs": [
    {
     "name": "stdout",
     "output_type": "stream",
     "text": [
      "'My Name is Muinat'\n"
     ]
    }
   ],
   "source": [
    "x = ascii(\"My Name is Muinat\")\n",
    "print(x)"
   ]
  },
  {
   "cell_type": "code",
   "execution_count": 58,
   "id": "6aeb7dfb-268d-48b0-9c70-2ac83644a200",
   "metadata": {},
   "outputs": [
    {
     "name": "stdout",
     "output_type": "stream",
     "text": [
      "0b110010\n"
     ]
    }
   ],
   "source": [
    "x = bin(50)\n",
    "print(x)"
   ]
  },
  {
   "cell_type": "code",
   "execution_count": 1,
   "id": "c866ed9f-b521-4643-b061-5197beb78030",
   "metadata": {},
   "outputs": [
    {
     "name": "stdout",
     "output_type": "stream",
     "text": [
      "True\n"
     ]
    }
   ],
   "source": [
    "x = bool(5)\n",
    "print(x)"
   ]
  },
  {
   "cell_type": "code",
   "execution_count": 2,
   "id": "7144c237-2553-4688-ad4c-987ea25fa44a",
   "metadata": {},
   "outputs": [
    {
     "name": "stdout",
     "output_type": "stream",
     "text": [
      "bytearray(b'\\x00\\x00\\x00')\n"
     ]
    }
   ],
   "source": [
    "x = bytearray(3)\n",
    "print(x)"
   ]
  },
  {
   "cell_type": "code",
   "execution_count": 6,
   "id": "9baaf1f5-1c61-4b52-b9ca-55b94e0647ee",
   "metadata": {},
   "outputs": [
    {
     "name": "stdout",
     "output_type": "stream",
     "text": [
      "b'\\x00\\x00'\n"
     ]
    }
   ],
   "source": [
    "x = bytes(2)\n",
    "print(x)"
   ]
  },
  {
   "cell_type": "code",
   "execution_count": 9,
   "id": "ecb44a83-7df1-4a0d-8f45-8c017314b0db",
   "metadata": {},
   "outputs": [
    {
     "name": "stdout",
     "output_type": "stream",
     "text": [
      "True\n"
     ]
    }
   ],
   "source": [
    "def x():\n",
    "    a = 5\n",
    "\n",
    "\n",
    "print(callable(x))"
   ]
  },
  {
   "cell_type": "code",
   "execution_count": 13,
   "id": "444e51b7-cc46-4d4a-b156-c03503d506ac",
   "metadata": {},
   "outputs": [
    {
     "name": "stdout",
     "output_type": "stream",
     "text": [
      "Z\n"
     ]
    }
   ],
   "source": [
    "x = chr(90)\n",
    "print(x)"
   ]
  },
  {
   "cell_type": "code",
   "execution_count": 15,
   "id": "702dd5f5-35bd-4a06-b684-2e88ea1aaf08",
   "metadata": {},
   "outputs": [
    {
     "name": "stdout",
     "output_type": "stream",
     "text": [
      "(50+9j)\n"
     ]
    }
   ],
   "source": [
    "x = complex(50, 9)\n",
    "print(x)"
   ]
  },
  {
   "cell_type": "code",
   "execution_count": 31,
   "id": "5c75da7a-c391-4656-a855-767f1cf5f13b",
   "metadata": {},
   "outputs": [
    {
     "name": "stdout",
     "output_type": "stream",
     "text": [
      "50\n"
     ]
    }
   ],
   "source": [
    "x = compile('print(50)', 'test', 'eval')\n",
    "exec(x)"
   ]
  },
  {
   "cell_type": "code",
   "execution_count": 16,
   "id": "7a3bcca0-25de-4037-82fd-fc4cb878a76d",
   "metadata": {},
   "outputs": [
    {
     "name": "stdout",
     "output_type": "stream",
     "text": [
      "{'name': 'Ola', 'age': 20, 'country': 'Nigeria'}\n"
     ]
    }
   ],
   "source": [
    "x = dict(name = \"Ola\", age = 20, country = \"Nigeria\")\n",
    "print(x)"
   ]
  },
  {
   "cell_type": "code",
   "execution_count": 47,
   "id": "0de6ee66-dff3-4bef-ab82-2170cf75606e",
   "metadata": {},
   "outputs": [],
   "source": [
    "class Person:\n",
    "  name = \"Ade\"\n",
    "  age = 36\n",
    "  country = \"Nigeria\"\n",
    "\n",
    "delattr(Person, 'age')"
   ]
  },
  {
   "cell_type": "code",
   "execution_count": 48,
   "id": "650db3b5-e169-4ba4-80c9-eb50cc8014f0",
   "metadata": {},
   "outputs": [
    {
     "name": "stdout",
     "output_type": "stream",
     "text": [
      "['__class__', '__delattr__', '__dict__', '__dir__', '__doc__', '__eq__', '__format__', '__ge__', '__getattribute__', '__getstate__', '__gt__', '__hash__', '__init__', '__init_subclass__', '__le__', '__lt__', '__module__', '__ne__', '__new__', '__reduce__', '__reduce_ex__', '__repr__', '__setattr__', '__sizeof__', '__str__', '__subclasshook__', '__weakref__', 'age', 'country', 'name']\n"
     ]
    }
   ],
   "source": [
    "class Person:\n",
    "  name = \"Ade\"\n",
    "  age = 36\n",
    "  country = \"Nigeria\"\n",
    "\n",
    "print(dir(Person))"
   ]
  },
  {
   "cell_type": "code",
   "execution_count": 36,
   "id": "a0823a7e-32c7-46be-8463-e6440ff336a8",
   "metadata": {},
   "outputs": [
    {
     "name": "stdout",
     "output_type": "stream",
     "text": [
      "(2, 1)\n"
     ]
    }
   ],
   "source": [
    "x = divmod(7, 3)\n",
    "print(x)"
   ]
  },
  {
   "cell_type": "code",
   "execution_count": 49,
   "id": "1d53c9db-40b9-4a3b-92cf-50844c586045",
   "metadata": {},
   "outputs": [
    {
     "name": "stdout",
     "output_type": "stream",
     "text": [
      "[(0, 'orange'), (1, 'banana'), (2, 'apple')]\n"
     ]
    }
   ],
   "source": [
    "x = (\"orange\", \"banana\", \"apple\")\n",
    "y = enumerate(x)\n",
    "print(list(y))"
   ]
  },
  {
   "cell_type": "code",
   "execution_count": 50,
   "id": "27f1f3c8-02b8-4835-9004-09e6a437df59",
   "metadata": {},
   "outputs": [
    {
     "name": "stdout",
     "output_type": "stream",
     "text": [
      "50\n"
     ]
    }
   ],
   "source": [
    "x = \"print(50)\"\n",
    "eval(x)"
   ]
  },
  {
   "cell_type": "code",
   "execution_count": 55,
   "id": "6a4e9d28-55af-4568-8efb-410c87cc7b2f",
   "metadata": {},
   "outputs": [
    {
     "name": "stdout",
     "output_type": "stream",
     "text": [
      "30\n",
      "40\n",
      "50\n",
      "60\n"
     ]
    }
   ],
   "source": [
    "ages = (5, 10, 20, 30, 40, 50, 60)\n",
    "\n",
    "def myFunc(x):\n",
    "    if x < 30:\n",
    "        return False\n",
    "    else:\n",
    "        return True\n",
    "\n",
    "youths = filter(myFunc, ages)\n",
    "\n",
    "for x in youths:\n",
    "    print(x)"
   ]
  },
  {
   "cell_type": "code",
   "execution_count": 56,
   "id": "59207abc-fbd9-453f-b6bc-ea0e48aa6d12",
   "metadata": {},
   "outputs": [
    {
     "name": "stdout",
     "output_type": "stream",
     "text": [
      "20.000000%\n"
     ]
    }
   ],
   "source": [
    "x = format(0.2, \"%\")\n",
    "print(x)"
   ]
  },
  {
   "cell_type": "code",
   "execution_count": 57,
   "id": "f61e4003-706a-4f46-a415-2e930c84d583",
   "metadata": {},
   "outputs": [
    {
     "name": "stdout",
     "output_type": "stream",
     "text": [
      "50.0\n"
     ]
    }
   ],
   "source": [
    "x = float(50)\n",
    "print(x)"
   ]
  }
 ],
 "metadata": {
  "kernelspec": {
   "display_name": "Python 3 (ipykernel)",
   "language": "python",
   "name": "python3"
  },
  "language_info": {
   "codemirror_mode": {
    "name": "ipython",
    "version": 3
   },
   "file_extension": ".py",
   "mimetype": "text/x-python",
   "name": "python",
   "nbconvert_exporter": "python",
   "pygments_lexer": "ipython3",
   "version": "3.11.7"
  }
 },
 "nbformat": 4,
 "nbformat_minor": 5
}
